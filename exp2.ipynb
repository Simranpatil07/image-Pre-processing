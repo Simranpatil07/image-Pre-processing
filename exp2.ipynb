{
  "nbformat": 4,
  "nbformat_minor": 0,
  "metadata": {
    "colab": {
      "provenance": [],
      "authorship_tag": "ABX9TyMIFCIh3YKwc/E0n+kJZdlR",
      "include_colab_link": true
    },
    "kernelspec": {
      "name": "python3",
      "display_name": "Python 3"
    },
    "language_info": {
      "name": "python"
    }
  },
  "cells": [
    {
      "cell_type": "markdown",
      "metadata": {
        "id": "view-in-github",
        "colab_type": "text"
      },
      "source": [
        "<a href=\"https://colab.research.google.com/github/Simranpatil07/image-Pre-processing/blob/main/exp2.ipynb\" target=\"_parent\"><img src=\"https://colab.research.google.com/assets/colab-badge.svg\" alt=\"Open In Colab\"/></a>"
      ]
    },
    {
      "cell_type": "code",
      "execution_count": null,
      "metadata": {
        "id": "LH74p6ldGrId"
      },
      "outputs": [],
      "source": [
        "# Import the necessary Libraries\n",
        "import cv2\n",
        "import matplotlib.pyplot as plt\n",
        "\n",
        "# Read image from disk.\n",
        "img = cv2.imread('Ganeshji.webp')\n",
        "\n",
        "# Convert BGR image to RGB\n",
        "image_rgb = cv2.cvtColor(img, cv2.COLOR_BGR2RGB)\n",
        "\n",
        "# Image rotation parameter\n",
        "center = (image_rgb.shape[1] // 2, image_rgb.shape[0] // 2)\n",
        "angle = 30\n",
        "scale = 1\n",
        "\n",
        "# getRotationMatrix2D creates a matrix needed for transformation.\n",
        "rotation_matrix = cv2.getRotationMatrix2D(center, angle, scale)\n",
        "\n",
        "# We want matrix for rotation w.r.t center to 30 degree without scaling.\n",
        "rotated_image = cv2.warpAffine(image_rgb, rotation_matrix, (img.shape[1], img.shape[0]))\n",
        "\n",
        "# Create subplots\n",
        "fig, axs = plt.subplots(1, 2, figsize=(7, 4))\n",
        "\n",
        "# Plot the original image\n",
        "axs[0].imshow(image_rgb)\n",
        "axs[0].set_title('Original Image')\n",
        "\n",
        "# Plot the Rotated image\n",
        "axs[1].imshow(rotated_image)\n",
        "axs[1].set_title('Image Rotation')\n",
        "\n",
        "# Remove ticks from the subplots\n",
        "for ax in axs:\n",
        "    ax.set_xticks([])\n",
        "    ax.set_yticks([])\n",
        "\n",
        "# Display the subplots\n",
        "plt.tight_layout()\n",
        "plt.show()"
      ]
    }
  ]
}